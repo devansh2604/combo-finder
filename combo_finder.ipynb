{
  "nbformat": 4,
  "nbformat_minor": 0,
  "metadata": {
    "colab": {
      "provenance": [],
      "authorship_tag": "ABX9TyMLEfaEIWGG/AC4vOY4glHw",
      "include_colab_link": true
    },
    "kernelspec": {
      "name": "python3",
      "display_name": "Python 3"
    },
    "language_info": {
      "name": "python"
    }
  },
  "cells": [
    {
      "cell_type": "markdown",
      "metadata": {
        "id": "view-in-github",
        "colab_type": "text"
      },
      "source": [
        "<a href=\"https://colab.research.google.com/github/devansh2604/combo-finder/blob/main/combo_finder.ipynb\" target=\"_parent\"><img src=\"https://colab.research.google.com/assets/colab-badge.svg\" alt=\"Open In Colab\"/></a>"
      ]
    },
    {
      "cell_type": "code",
      "execution_count": null,
      "metadata": {
        "id": "ybYTzZaSMbuO"
      },
      "outputs": [],
      "source": [
        "import random as r\n",
        "\n",
        "ProductList = {\n",
        "    'p1': 10, 'p2': 15, 'p3': 20, 'p4': 25, 'p5': 30, 'p6': 35, 'p7': 50,\n",
        "    'p8': 40, 'p9': 55, 'p10': 60, 'p11': 65, 'p12': 75, 'p13': 70, 'p14': 45\n",
        "}\n",
        "\n",
        "LB = 290\n",
        "UB = 310\n",
        "Iterations = 1000\n",
        "ResultList = set()\n",
        "\n",
        "for _ in range(Iterations):\n",
        "    SetSize = r.randint(2, len(ProductList) - 1)\n",
        "    ComboList = r.sample(list(ProductList.keys()), SetSize)\n",
        "    ComboSum = sum(ProductList[i] for i in ComboList)\n",
        "    if LB <= ComboSum <= UB:\n",
        "        ResultList.add(tuple(sorted(ComboList)))\n",
        "\n",
        "for combo in ResultList:\n",
        "    print(combo)\n",
        "\n",
        "print(\"\\nTotal Sets:\", len(ResultList))\n"
      ]
    }
  ]
}